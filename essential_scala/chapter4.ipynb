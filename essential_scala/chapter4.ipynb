{
 "cells": [
  {
   "cell_type": "code",
   "execution_count": 1,
   "metadata": {},
   "outputs": [
    {
     "data": {
      "text/plain": [
       "defined \u001b[32mfunction\u001b[39m \u001b[36madd\u001b[39m"
      ]
     },
     "execution_count": 1,
     "metadata": {},
     "output_type": "execute_result"
    }
   ],
   "source": [
    "def add(a: Int, b: Int) = a + b"
   ]
  },
  {
   "cell_type": "code",
   "execution_count": 2,
   "metadata": {},
   "outputs": [
    {
     "data": {
      "text/plain": [
       "defined \u001b[32mtrait\u001b[39m \u001b[36mDivisionResult\u001b[39m\n",
       "defined \u001b[32mclass\u001b[39m \u001b[36mFinite\u001b[39m\n",
       "defined \u001b[32mobject\u001b[39m \u001b[36mInfinite\u001b[39m"
      ]
     },
     "execution_count": 2,
     "metadata": {},
     "output_type": "execute_result"
    }
   ],
   "source": [
    "sealed trait DivisionResult\n",
    "\n",
    "final case class Finite(result: Int) extends DivisionResult\n",
    "case object Infinite extends DivisionResult"
   ]
  },
  {
   "cell_type": "code",
   "execution_count": 3,
   "metadata": {},
   "outputs": [
    {
     "data": {
      "text/plain": [
       "defined \u001b[32mobject\u001b[39m \u001b[36mdivide\u001b[39m\n",
       "\u001b[36mres2_1\u001b[39m: \u001b[32mDivisionResult\u001b[39m = \u001b[33mFinite\u001b[39m(\u001b[32m5\u001b[39m)\n",
       "\u001b[36mres2_2\u001b[39m: \u001b[32mDivisionResult\u001b[39m = Infinite"
      ]
     },
     "execution_count": 3,
     "metadata": {},
     "output_type": "execute_result"
    }
   ],
   "source": [
    "object divide {\n",
    "    def apply(a: Int, b: Int): DivisionResult = if (b == 0) Infinite else Finite(a / b)\n",
    "}\n",
    "\n",
    "divide(5, 1)\n",
    "divide(5, 0)"
   ]
  },
  {
   "cell_type": "code",
   "execution_count": 4,
   "metadata": {},
   "outputs": [
    {
     "data": {
      "text/plain": [
       "defined \u001b[32mtrait\u001b[39m \u001b[36mTrafficLightColor\u001b[39m\n",
       "defined \u001b[32mobject\u001b[39m \u001b[36mRed\u001b[39m\n",
       "defined \u001b[32mobject\u001b[39m \u001b[36mOrange\u001b[39m\n",
       "defined \u001b[32mobject\u001b[39m \u001b[36mGreen\u001b[39m"
      ]
     },
     "execution_count": 4,
     "metadata": {},
     "output_type": "execute_result"
    }
   ],
   "source": [
    "sealed trait TrafficLightColor\n",
    "final case object Red extends TrafficLightColor\n",
    "final case object Orange extends TrafficLightColor\n",
    "final case object Green extends TrafficLightColor"
   ]
  },
  {
   "cell_type": "code",
   "execution_count": 5,
   "metadata": {},
   "outputs": [
    {
     "data": {
      "text/plain": [
       "defined \u001b[32mtrait\u001b[39m \u001b[36mBottledWaterSource\u001b[39m\n",
       "defined \u001b[32mobject\u001b[39m \u001b[36mSpring\u001b[39m\n",
       "defined \u001b[32mobject\u001b[39m \u001b[36mWell\u001b[39m\n",
       "defined \u001b[32mobject\u001b[39m \u001b[36mTap\u001b[39m\n",
       "defined \u001b[32mclass\u001b[39m \u001b[36mBottledWater\u001b[39m"
      ]
     },
     "execution_count": 5,
     "metadata": {},
     "output_type": "execute_result"
    }
   ],
   "source": [
    "sealed trait BottledWaterSource\n",
    "final case object Spring extends BottledWaterSource\n",
    "final case object Well extends BottledWaterSource\n",
    "final case object Tap extends BottledWaterSource\n",
    "\n",
    "final case class BottledWater(\n",
    "    size: Int,\n",
    "    source: BottledWaterSource,\n",
    "    carbonated: Boolean,\n",
    ")"
   ]
  },
  {
   "cell_type": "code",
   "execution_count": 6,
   "metadata": {},
   "outputs": [
    {
     "data": {
      "text/plain": [
       "defined \u001b[32mtrait\u001b[39m \u001b[36mMyList\u001b[39m\n",
       "defined \u001b[32mobject\u001b[39m \u001b[36mEnd\u001b[39m\n",
       "defined \u001b[32mclass\u001b[39m \u001b[36mCons\u001b[39m\n",
       "\u001b[36mtest_list\u001b[39m: \u001b[32mCons\u001b[39m[\u001b[32mInt\u001b[39m] = \u001b[33mCons\u001b[39m(\u001b[32m1\u001b[39m, \u001b[33mCons\u001b[39m(\u001b[32m5\u001b[39m, \u001b[33mCons\u001b[39m(\u001b[32m4\u001b[39m, End)))"
      ]
     },
     "execution_count": 6,
     "metadata": {},
     "output_type": "execute_result"
    }
   ],
   "source": [
    "sealed trait MyList[+T]\n",
    "final case object End extends MyList[Nothing]\n",
    "final case class Cons[T](head: T, tail: MyList[T]) extends MyList[T]\n",
    "\n",
    "val test_list = Cons(1, Cons(5, Cons(4, End)))"
   ]
  },
  {
   "cell_type": "code",
   "execution_count": 8,
   "metadata": {},
   "outputs": [
    {
     "data": {
      "text/plain": [
       "defined \u001b[32mfunction\u001b[39m \u001b[36mfoldl\u001b[39m\n",
       "defined \u001b[32mfunction\u001b[39m \u001b[36msum\u001b[39m\n",
       "\u001b[36msum_test_list\u001b[39m: \u001b[32mInt\u001b[39m = \u001b[32m10\u001b[39m\n",
       "defined \u001b[32mfunction\u001b[39m \u001b[36mlength\u001b[39m\n",
       "\u001b[36mlen_test_list\u001b[39m: \u001b[32mInt\u001b[39m = \u001b[32m3\u001b[39m"
      ]
     },
     "execution_count": 8,
     "metadata": {},
     "output_type": "execute_result"
    }
   ],
   "source": [
    "def foldl[A, B](f: (B, A) => B, acc: B)(l: MyList[A]): B =\n",
    "    l match {\n",
    "        case End => acc\n",
    "        case Cons(head, tail) => foldl(f, f(acc, head))(tail)\n",
    "    }\n",
    "\n",
    "def sum = foldl[Int, Int]((acc, value) => acc + value, 0) _\n",
    "val sum_test_list = sum(test_list)\n",
    "\n",
    "def length = foldl[Int, Int]((acc, _) => acc + 1, 0) _\n",
    "val len_test_list = length(test_list)"
   ]
  }
 ],
 "metadata": {
  "kernelspec": {
   "display_name": "Scala",
   "language": "scala",
   "name": "scala"
  },
  "language_info": {
   "codemirror_mode": "text/x-scala",
   "file_extension": ".sc",
   "mimetype": "text/x-scala",
   "name": "scala",
   "nbconvert_exporter": "script",
   "version": "2.13.3"
  }
 },
 "nbformat": 4,
 "nbformat_minor": 4
}
