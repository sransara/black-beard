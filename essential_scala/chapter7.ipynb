{
 "cells": [
  {
   "cell_type": "code",
   "execution_count": 1,
   "metadata": {},
   "outputs": [
    {
     "data": {
      "text/plain": [
       "\u001b[32mimport \u001b[39m\u001b[36mscala.math.Ordering\n",
       "\u001b[39m\n",
       "defined \u001b[32mclass\u001b[39m \u001b[36mRational\u001b[39m\n",
       "defined \u001b[32mobject\u001b[39m \u001b[36mRational\u001b[39m\n",
       "\u001b[36mres0_3\u001b[39m: \u001b[32mList\u001b[39m[\u001b[32mRational\u001b[39m] = \u001b[33mList\u001b[39m(\u001b[33mRational\u001b[39m(\u001b[32m3\u001b[39m, \u001b[32m4\u001b[39m), \u001b[33mRational\u001b[39m(\u001b[32m1\u001b[39m, \u001b[32m2\u001b[39m), \u001b[33mRational\u001b[39m(\u001b[32m1\u001b[39m, \u001b[32m3\u001b[39m))"
      ]
     },
     "execution_count": 1,
     "metadata": {},
     "output_type": "execute_result"
    }
   ],
   "source": [
    "import scala.math.Ordering\n",
    "final case class Rational(numerator: Int, denominator: Int)\n",
    "object Rational {\n",
    "    implicit val rationalOrderingLargestRatioFirst = Ordering.fromLessThan[Rational]((x, y) => \n",
    "        x.numerator.toDouble/x.denominator.toDouble > y.numerator.toDouble/y.denominator.toDouble\n",
    "    )\n",
    "}\n",
    "List(Rational(1,2), Rational(3, 4), Rational(1, 3)).sorted"
   ]
  },
  {
   "cell_type": "code",
   "execution_count": 2,
   "metadata": {},
   "outputs": [
    {
     "data": {
      "text/plain": [
       "defined \u001b[32mclass\u001b[39m \u001b[36mOrder\u001b[39m\n",
       "defined \u001b[32mobject\u001b[39m \u001b[36mOrderingOrderByTotalPrice\u001b[39m\n",
       "defined \u001b[32mobject\u001b[39m \u001b[36mApp\u001b[39m\n",
       "\u001b[36mres1_3\u001b[39m: \u001b[32mList\u001b[39m[\u001b[32mOrder\u001b[39m] = \u001b[33mList\u001b[39m(\u001b[33mOrder\u001b[39m(\u001b[32m1\u001b[39m, \u001b[32m2.0\u001b[39m), \u001b[33mOrder\u001b[39m(\u001b[32m1\u001b[39m, \u001b[32m3.0\u001b[39m), \u001b[33mOrder\u001b[39m(\u001b[32m3\u001b[39m, \u001b[32m4.0\u001b[39m))"
      ]
     },
     "execution_count": 2,
     "metadata": {},
     "output_type": "execute_result"
    }
   ],
   "source": [
    "final case class Order(units: Int, unitPrice: Double) {\n",
    "    val totalPrice: Double = units * unitPrice\n",
    "}\n",
    "\n",
    "object OrderingOrderByTotalPrice {\n",
    "    import scala.math.Ordering\n",
    "    implicit val orderingOrderByTotalPrice = Ordering.fromLessThan[Order]((x, y) => x.totalPrice < y.totalPrice)\n",
    "}\n",
    "\n",
    "object App {\n",
    "    import OrderingOrderByTotalPrice._\n",
    "    def main = List(Order(1,2), Order(3, 4), Order(1, 3)).sorted\n",
    "}\n",
    "App.main"
   ]
  }
 ],
 "metadata": {
  "kernelspec": {
   "display_name": "Scala",
   "language": "scala",
   "name": "scala"
  },
  "language_info": {
   "codemirror_mode": "text/x-scala",
   "file_extension": ".sc",
   "mimetype": "text/x-scala",
   "name": "scala",
   "nbconvert_exporter": "script",
   "version": "2.13.3"
  }
 },
 "nbformat": 4,
 "nbformat_minor": 4
}
