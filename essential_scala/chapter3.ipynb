{
 "cells": [
  {
   "cell_type": "code",
   "execution_count": 1,
   "metadata": {},
   "outputs": [
    {
     "data": {
      "text/plain": [
       "defined \u001b[32mclass\u001b[39m \u001b[36mCounter\u001b[39m"
      ]
     },
     "execution_count": 1,
     "metadata": {},
     "output_type": "execute_result"
    }
   ],
   "source": [
    "class Counter(val count: Int) {\n",
    "    def inc: Counter = new Counter(count + 1)\n",
    "    def dec: Counter = new Counter(count - 1)\n",
    "}"
   ]
  },
  {
   "cell_type": "code",
   "execution_count": 2,
   "metadata": {},
   "outputs": [
    {
     "data": {
      "text/plain": [
       "\u001b[36mres1\u001b[39m: \u001b[32mInt\u001b[39m = \u001b[32m5\u001b[39m"
      ]
     },
     "execution_count": 2,
     "metadata": {},
     "output_type": "execute_result"
    }
   ],
   "source": [
    "new Counter(5).inc.inc.dec.dec.count"
   ]
  },
  {
   "cell_type": "code",
   "execution_count": 3,
   "metadata": {},
   "outputs": [
    {
     "data": {
      "text/plain": [
       "defined \u001b[32mclass\u001b[39m \u001b[36mAdder\u001b[39m"
      ]
     },
     "execution_count": 3,
     "metadata": {},
     "output_type": "execute_result"
    }
   ],
   "source": [
    "class Adder(amount: Int) {\n",
    "    def apply(more: Int): Int = amount + more\n",
    "}"
   ]
  },
  {
   "cell_type": "code",
   "execution_count": 4,
   "metadata": {},
   "outputs": [
    {
     "data": {
      "text/plain": [
       "\u001b[36madd5\u001b[39m: \u001b[32mAdder\u001b[39m = ammonite.$sess.cmd2$Helper$Adder@6d258e01\n",
       "\u001b[36mres3_1\u001b[39m: \u001b[32mInt\u001b[39m = \u001b[32m15\u001b[39m"
      ]
     },
     "execution_count": 4,
     "metadata": {},
     "output_type": "execute_result"
    }
   ],
   "source": [
    "val add5 = new Adder(5)\n",
    "add5(10)"
   ]
  },
  {
   "cell_type": "code",
   "execution_count": 5,
   "metadata": {},
   "outputs": [
    {
     "data": {
      "text/plain": [
       "defined \u001b[32mclass\u001b[39m \u001b[36mPerson\u001b[39m\n",
       "defined \u001b[32mobject\u001b[39m \u001b[36mPerson\u001b[39m"
      ]
     },
     "execution_count": 5,
     "metadata": {},
     "output_type": "execute_result"
    }
   ],
   "source": [
    "class Person(val fname: String, val lname: String)\n",
    "\n",
    "object Person {\n",
    "    def apply(name: String): Person = {\n",
    "        val parts = name.split(\" \")\n",
    "        new Person(parts(0), parts(1))\n",
    "    }\n",
    "}"
   ]
  },
  {
   "cell_type": "code",
   "execution_count": 6,
   "metadata": {},
   "outputs": [
    {
     "data": {
      "text/plain": [
       "\u001b[36mres5\u001b[39m: \u001b[32mString\u001b[39m = \u001b[32m\"Robin\"\u001b[39m"
      ]
     },
     "execution_count": 6,
     "metadata": {},
     "output_type": "execute_result"
    }
   ],
   "source": [
    "Person(\"Robin Hood\").fname"
   ]
  },
  {
   "cell_type": "code",
   "execution_count": 7,
   "metadata": {},
   "outputs": [
    {
     "data": {
      "text/plain": [
       "defined \u001b[32mclass\u001b[39m \u001b[36mCat\u001b[39m\n",
       "\u001b[36mbrownCat\u001b[39m: \u001b[32mCat\u001b[39m = \u001b[33mCat\u001b[39m(\u001b[32m\"brown\"\u001b[39m, \u001b[32m\"chips\"\u001b[39m)\n",
       "\u001b[36mblackCat\u001b[39m: \u001b[32mCat\u001b[39m = \u001b[33mCat\u001b[39m(\u001b[32m\"balck\"\u001b[39m, \u001b[32m\"fish\"\u001b[39m)"
      ]
     },
     "execution_count": 7,
     "metadata": {},
     "output_type": "execute_result"
    }
   ],
   "source": [
    "case class Cat(color: String, food: String)\n",
    "val brownCat = Cat(\"brown\", \"chips\")\n",
    "val blackCat = Cat(\"balck\", \"fish\")"
   ]
  },
  {
   "cell_type": "code",
   "execution_count": 8,
   "metadata": {},
   "outputs": [
    {
     "data": {
      "text/plain": [
       "defined \u001b[32mobject\u001b[39m \u001b[36mChipShop\u001b[39m\n",
       "\u001b[36mres7_1\u001b[39m: \u001b[32mBoolean\u001b[39m = true\n",
       "\u001b[36mres7_2\u001b[39m: \u001b[32mBoolean\u001b[39m = false"
      ]
     },
     "execution_count": 8,
     "metadata": {},
     "output_type": "execute_result"
    }
   ],
   "source": [
    "object ChipShop {\n",
    "    def willServe(cat: Cat): Boolean = cat match {\n",
    "        case Cat(_, \"chips\") => true\n",
    "        case _ => false\n",
    "    }\n",
    "}\n",
    "ChipShop.willServe(brownCat)\n",
    "ChipShop.willServe(blackCat)"
   ]
  }
 ],
 "metadata": {
  "kernelspec": {
   "display_name": "Scala",
   "language": "scala",
   "name": "scala"
  },
  "language_info": {
   "codemirror_mode": "text/x-scala",
   "file_extension": ".sc",
   "mimetype": "text/x-scala",
   "name": "scala",
   "nbconvert_exporter": "script",
   "version": "2.13.3"
  }
 },
 "nbformat": 4,
 "nbformat_minor": 4
}
