{
 "cells": [
  {
   "cell_type": "code",
   "execution_count": 1,
   "metadata": {},
   "outputs": [
    {
     "data": {
      "text/plain": [
       "defined \u001b[32mtrait\u001b[39m \u001b[36mResult\u001b[39m\n",
       "defined \u001b[32mclass\u001b[39m \u001b[36mSuccess\u001b[39m\n",
       "defined \u001b[32mclass\u001b[39m \u001b[36mFailure\u001b[39m"
      ]
     },
     "execution_count": 1,
     "metadata": {},
     "output_type": "execute_result"
    }
   ],
   "source": [
    "sealed trait Result[+A]\n",
    "final case class Success[A](result: A) extends Result[A]\n",
    "final case class Failure(reason: String) extends Result[Nothing]"
   ]
  },
  {
   "cell_type": "code",
   "execution_count": 2,
   "metadata": {},
   "outputs": [
    {
     "data": {
      "text/plain": [
       "defined \u001b[32mtrait\u001b[39m \u001b[36mLinkedList\u001b[39m\n",
       "defined \u001b[32mobject\u001b[39m \u001b[36mEnd\u001b[39m\n",
       "defined \u001b[32mclass\u001b[39m \u001b[36mCons\u001b[39m\n",
       "\u001b[36mtest_list\u001b[39m: \u001b[32mCons\u001b[39m[\u001b[32mInt\u001b[39m] = \u001b[33mCons\u001b[39m(\u001b[32m1\u001b[39m, \u001b[33mCons\u001b[39m(\u001b[32m5\u001b[39m, \u001b[33mCons\u001b[39m(\u001b[32m4\u001b[39m, End)))"
      ]
     },
     "execution_count": 2,
     "metadata": {},
     "output_type": "execute_result"
    }
   ],
   "source": [
    "sealed trait LinkedList[+T] {\n",
    "    def apply(n: Int): Result[T] = this match {\n",
    "        case End => Failure(\"Out of bounds\")\n",
    "        case Cons(head: T, tail) =>\n",
    "            if (n == 0) Success(head) else apply(n - 1)\n",
    "    }\n",
    "    \n",
    "    def foldr[B](acc: B, f: (T, B) => B): B = this match {\n",
    "        case End => acc\n",
    "        case Cons(head, tail) => f(head, tail.foldr(acc, f))\n",
    "    }\n",
    "    \n",
    "    def extend[TT >: T](l: LinkedList[TT]): LinkedList[TT] = foldr[LinkedList[TT]](l, (head, tail) => Cons(head, tail))\n",
    "    \n",
    "    def map[B](f: T => B): LinkedList[B] = foldr[LinkedList[B]](End, (head, tail) => Cons(f(head), tail))\n",
    "    \n",
    "    def flatMap[B](f: T => LinkedList[B]): LinkedList[B] = foldr[LinkedList[B]](End, (head, tail) => f(head).extend(tail))\n",
    "}\n",
    "final case object End extends LinkedList[Nothing]\n",
    "final case class Cons[T](head: T, tail: LinkedList[T]) extends LinkedList[T]\n",
    "\n",
    "val test_list = Cons(1, Cons(5, Cons(4, End)))"
   ]
  },
  {
   "cell_type": "code",
   "execution_count": 3,
   "metadata": {},
   "outputs": [
    {
     "data": {
      "text/plain": [
       "\u001b[36mres2_0\u001b[39m: \u001b[32mResult\u001b[39m[\u001b[32mInt\u001b[39m] = \u001b[33mSuccess\u001b[39m(\u001b[32m1\u001b[39m)\n",
       "\u001b[36mres2_1\u001b[39m: \u001b[32mResult\u001b[39m[\u001b[32mInt\u001b[39m] = \u001b[33mSuccess\u001b[39m(\u001b[32m1\u001b[39m)"
      ]
     },
     "execution_count": 3,
     "metadata": {},
     "output_type": "execute_result"
    }
   ],
   "source": [
    "test_list(2)\n",
    "test_list(3)"
   ]
  },
  {
   "cell_type": "code",
   "execution_count": 4,
   "metadata": {},
   "outputs": [
    {
     "data": {
      "text/plain": [
       "\u001b[36mres3_0\u001b[39m: \u001b[32mInt\u001b[39m = \u001b[32m3\u001b[39m\n",
       "\u001b[36mres3_1\u001b[39m: \u001b[32mLinkedList\u001b[39m[\u001b[32mInt\u001b[39m] = \u001b[33mCons\u001b[39m(\u001b[32m2\u001b[39m, \u001b[33mCons\u001b[39m(\u001b[32m10\u001b[39m, \u001b[33mCons\u001b[39m(\u001b[32m8\u001b[39m, End)))\n",
       "\u001b[36mres3_2\u001b[39m: \u001b[32mLinkedList\u001b[39m[\u001b[32mInt\u001b[39m] = \u001b[33mCons\u001b[39m(\u001b[32m1\u001b[39m, \u001b[33mCons\u001b[39m(\u001b[32m5\u001b[39m, \u001b[33mCons\u001b[39m(\u001b[32m800\u001b[39m, \u001b[33mCons\u001b[39m(\u001b[32m8\u001b[39m, End))))"
      ]
     },
     "execution_count": 4,
     "metadata": {},
     "output_type": "execute_result"
    }
   ],
   "source": [
    "test_list.foldr[Int](0, (_, v) => 1 + v)\n",
    "test_list.map(_ * 2)\n",
    "test_list.flatMap(v => if (v % 2 == 0) Cons(v * 200, Cons(v * 2, End)) else Cons(v, End))"
   ]
  },
  {
   "cell_type": "code",
   "execution_count": 5,
   "metadata": {},
   "outputs": [
    {
     "data": {
      "text/plain": [
       "defined \u001b[32mtrait\u001b[39m \u001b[36mTree\u001b[39m\n",
       "defined \u001b[32mclass\u001b[39m \u001b[36mNode\u001b[39m\n",
       "defined \u001b[32mobject\u001b[39m \u001b[36mEnd\u001b[39m\n",
       "\u001b[36mtest_tree\u001b[39m: \u001b[32mNode\u001b[39m[\u001b[32mInt\u001b[39m] = \u001b[33mNode\u001b[39m(\u001b[32m5\u001b[39m, \u001b[33mNode\u001b[39m(\u001b[32m4\u001b[39m, End, End), End)"
      ]
     },
     "execution_count": 5,
     "metadata": {},
     "output_type": "execute_result"
    }
   ],
   "source": [
    "sealed trait Tree[+T] {\n",
    "    def foldr[B](acc: B)(f: (T, B, B) => B): B\n",
    "}\n",
    "final case class Node[T](value: T, left: Tree[T], right: Tree[T]) extends Tree[T] {\n",
    "    def foldr[B](acc: B)(f: (T, B, B) => B): B =\n",
    "        f(value, left.foldr(acc)(f), right.foldr(acc)(f))\n",
    "}\n",
    "final case object End extends Tree[Nothing] {\n",
    "    def foldr[B](acc: B)(f: (Nothing, B, B) => B): B = acc\n",
    "}\n",
    "\n",
    "val test_tree = Node(5, Node(4, End, End), End)"
   ]
  },
  {
   "cell_type": "code",
   "execution_count": 6,
   "metadata": {},
   "outputs": [
    {
     "data": {
      "text/plain": [
       "\u001b[36mres5\u001b[39m: \u001b[32mInt\u001b[39m = \u001b[32m9\u001b[39m"
      ]
     },
     "execution_count": 6,
     "metadata": {},
     "output_type": "execute_result"
    }
   ],
   "source": [
    "test_tree.foldr(0)((v, l, r) => v + l + r)"
   ]
  },
  {
   "cell_type": "code",
   "execution_count": 7,
   "metadata": {},
   "outputs": [
    {
     "data": {
      "text/html": [
       "<div class=\"jp-RenderedText\">\n",
       "<pre><code>defined <span style=\"color: rgb(0, 187, 0)\"><span class=\"ansi-green-fg\">class</span></span> <span style=\"color: rgb(0, 187, 187)\"><span class=\"ansi-cyan-fg\">Pair</span></span>\n",
       "<span style=\"color: rgb(0, 187, 187)\"><span class=\"ansi-cyan-fg\">test_pair</span></span>: <span style=\"color: rgb(0, 187, 0)\"><span class=\"ansi-green-fg\">Pair</span></span>[<span style=\"color: rgb(0, 187, 0)\"><span class=\"ansi-green-fg\">Int</span></span>, <span style=\"color: rgb(0, 187, 0)\"><span class=\"ansi-green-fg\">String</span></span>] = <span style=\"color: yellow\"><span class=\"ansi-yellow-fg\">Pair</span></span>(<span style=\"color: rgb(0, 187, 0)\"><span class=\"ansi-green-fg\">1</span></span>, <span style=\"color: rgb(0, 187, 0)\"><span class=\"ansi-green-fg\">&quot;TMNT&quot;</span></span>)\n",
       "<span style=\"color: rgb(0, 187, 187)\"><span class=\"ansi-cyan-fg\">res6_2</span></span>: <span style=\"color: rgb(0, 187, 0)\"><span class=\"ansi-green-fg\">String</span></span> = <span style=\"color: rgb(0, 187, 0)\"><span class=\"ansi-green-fg\">&quot;TMNT&quot;</span></span></code></pre>\n",
       "</div>"
      ],
      "text/plain": [
       "defined \u001b[32mclass\u001b[39m \u001b[36mPair\u001b[39m\n",
       "\u001b[36mtest_pair\u001b[39m: \u001b[32mPair\u001b[39m[\u001b[32mInt\u001b[39m, \u001b[32mString\u001b[39m] = \u001b[33mPair\u001b[39m(\u001b[32m1\u001b[39m, \u001b[32m\"TMNT\"\u001b[39m)\n",
       "\u001b[36mres6_2\u001b[39m: \u001b[32mString\u001b[39m = \u001b[32m\"TMNT\"\u001b[39m"
      ]
     },
     "metadata": {},
     "output_type": "display_data"
    }
   ],
   "source": [
    "final case class Pair[A, B](one: A, two: B)\n",
    "var test_pair = Pair[Int, String](1, \"TMNT\")\n",
    "test_pair.two"
   ]
  },
  {
   "cell_type": "code",
   "execution_count": 8,
   "metadata": {},
   "outputs": [
    {
     "data": {
      "text/plain": [
       "defined \u001b[32mtrait\u001b[39m \u001b[36mSum\u001b[39m\n",
       "defined \u001b[32mclass\u001b[39m \u001b[36mFailure\u001b[39m\n",
       "defined \u001b[32mclass\u001b[39m \u001b[36mSuccess\u001b[39m"
      ]
     },
     "execution_count": 8,
     "metadata": {},
     "output_type": "execute_result"
    }
   ],
   "source": [
    "sealed trait Sum[+A, +B]\n",
    "final case class Failure[A, Nothing](value: A) extends Sum[A, Nothing]\n",
    "final case class Success[B](value: B) extends Sum[Nothing, B]"
   ]
  },
  {
   "cell_type": "code",
   "execution_count": 9,
   "metadata": {},
   "outputs": [
    {
     "data": {
      "text/plain": [
       "defined \u001b[32mtrait\u001b[39m \u001b[36mMaybe\u001b[39m\n",
       "defined \u001b[32mclass\u001b[39m \u001b[36mFull\u001b[39m\n",
       "defined \u001b[32mobject\u001b[39m \u001b[36mEmpty\u001b[39m"
      ]
     },
     "execution_count": 9,
     "metadata": {},
     "output_type": "execute_result"
    }
   ],
   "source": [
    "sealed trait Maybe[+A] {\n",
    "    def fold[B](full: A => B, empty: B): B = this match {\n",
    "        case Full(a) => full(a)\n",
    "        case Empty => empty\n",
    "    }\n",
    "    \n",
    "    def flatMap[B](f: A => Maybe[B]): Maybe[B] = this.fold[Maybe[B]](f, Empty)\n",
    "    \n",
    "    def map[B](f: A => B): Maybe[B] = this.flatMap[B](v => Full(f(v)))\n",
    "}\n",
    "final case class Full[A](value: A) extends Maybe[A]\n",
    "final case object Empty extends Maybe[Nothing]"
   ]
  },
  {
   "cell_type": "code",
   "execution_count": 10,
   "metadata": {},
   "outputs": [
    {
     "data": {
      "text/plain": [
       "\u001b[36mlist\u001b[39m: \u001b[32mList\u001b[39m[\u001b[32mInt\u001b[39m] = \u001b[33mList\u001b[39m(\u001b[32m1\u001b[39m, \u001b[32m2\u001b[39m, \u001b[32m3\u001b[39m)\n",
       "\u001b[36mres9_1\u001b[39m: \u001b[32mList\u001b[39m[\u001b[32mInt\u001b[39m] = \u001b[33mList\u001b[39m(\u001b[32m1\u001b[39m, \u001b[32m-1\u001b[39m, \u001b[32m2\u001b[39m, \u001b[32m-2\u001b[39m, \u001b[32m3\u001b[39m, \u001b[32m-3\u001b[39m)"
      ]
     },
     "execution_count": 10,
     "metadata": {},
     "output_type": "execute_result"
    }
   ],
   "source": [
    "val list = List(1, 2, 3)\n",
    "list.flatMap(v => List(v, -v))"
   ]
  },
  {
   "cell_type": "code",
   "execution_count": 11,
   "metadata": {},
   "outputs": [
    {
     "data": {
      "text/plain": [
       "\u001b[36mlist\u001b[39m: \u001b[32mList\u001b[39m[\u001b[32mFull\u001b[39m[\u001b[32mInt\u001b[39m]] = \u001b[33mList\u001b[39m(\u001b[33mFull\u001b[39m(\u001b[32m3\u001b[39m), \u001b[33mFull\u001b[39m(\u001b[32m2\u001b[39m), \u001b[33mFull\u001b[39m(\u001b[32m1\u001b[39m))\n",
       "\u001b[36mres10_1\u001b[39m: \u001b[32mList\u001b[39m[\u001b[32mMaybe\u001b[39m[\u001b[32mInt\u001b[39m]] = \u001b[33mList\u001b[39m(Empty, \u001b[33mFull\u001b[39m(\u001b[32m2\u001b[39m), Empty)"
      ]
     },
     "execution_count": 11,
     "metadata": {},
     "output_type": "execute_result"
    }
   ],
   "source": [
    "val list = List(Full(3), Full(2), Full(1))\n",
    "list.map(mv => {\n",
    "    mv.flatMap(v => {\n",
    "        if (v % 2 == 0) Full(v) else Empty\n",
    "    })\n",
    "})"
   ]
  },
  {
   "cell_type": "code",
   "execution_count": 12,
   "metadata": {},
   "outputs": [
    {
     "data": {
      "text/plain": [
       "defined \u001b[32mtrait\u001b[39m \u001b[36mSum\u001b[39m\n",
       "defined \u001b[32mclass\u001b[39m \u001b[36mFailure\u001b[39m\n",
       "defined \u001b[32mclass\u001b[39m \u001b[36mSuccess\u001b[39m"
      ]
     },
     "execution_count": 12,
     "metadata": {},
     "output_type": "execute_result"
    }
   ],
   "source": [
    "sealed trait Sum[+A, +B] {\n",
    "    def map[C](f: B => C): Sum[A, C] = this match {\n",
    "        case Failure(v) => Failure(v)\n",
    "        case Success(v) => Success(f(v))\n",
    "    }\n",
    "    \n",
    "    def flatMap[AA >: A, C](f: B => Sum[AA, C]): Sum[AA, C] = this match {\n",
    "        case Failure(v) => Failure(v)\n",
    "        case Success(v) => f(v)\n",
    "    }\n",
    "}\n",
    "final case class Failure[A](value: A) extends Sum[A, Nothing]\n",
    "final case class Success[B](value: B) extends Sum[Nothing, B]"
   ]
  },
  {
   "cell_type": "code",
   "execution_count": 13,
   "metadata": {},
   "outputs": [
    {
     "data": {
      "text/plain": [
       "defined \u001b[32mtrait\u001b[39m \u001b[36mExpression\u001b[39m\n",
       "defined \u001b[32mclass\u001b[39m \u001b[36mAddition\u001b[39m\n",
       "defined \u001b[32mclass\u001b[39m \u001b[36mSubtraction\u001b[39m\n",
       "defined \u001b[32mclass\u001b[39m \u001b[36mNumber\u001b[39m\n",
       "\u001b[36mres12_4\u001b[39m: \u001b[32mSum\u001b[39m[\u001b[32mString\u001b[39m, \u001b[32mDouble\u001b[39m] = \u001b[33mSuccess\u001b[39m(\u001b[32m3.0\u001b[39m)\n",
       "\u001b[36mres12_5\u001b[39m: \u001b[32mSum\u001b[39m[\u001b[32mString\u001b[39m, \u001b[32mDouble\u001b[39m] = \u001b[33mSuccess\u001b[39m(\u001b[32m-1.0\u001b[39m)"
      ]
     },
     "execution_count": 13,
     "metadata": {},
     "output_type": "execute_result"
    }
   ],
   "source": [
    "sealed trait Expression {\n",
    "    def eval: Sum[String, Double]\n",
    "}\n",
    "\n",
    "final case class Addition(left: Expression, right: Expression) extends Expression {\n",
    "    def eval: Sum[String, Double] =\n",
    "        left.eval.flatMap {\n",
    "            lv => right.eval.map {\n",
    "                rv => lv + rv\n",
    "            }\n",
    "        }\n",
    "}\n",
    "\n",
    "final case class Subtraction(left: Expression, right: Expression) extends Expression {\n",
    "    def eval: Sum[String, Double] =\n",
    "        left.eval.flatMap {\n",
    "            lv => right.eval.map {\n",
    "                rv => lv - rv\n",
    "            }\n",
    "        }\n",
    "}\n",
    "\n",
    "final case class Number(value: Double) extends Expression {\n",
    "    def eval: Sum[String, Double] = Success(value)\n",
    "}\n",
    "\n",
    "Addition(Number(1), Number(2)).eval\n",
    "Subtraction(Number(1), Number(2)).eval"
   ]
  }
 ],
 "metadata": {
  "kernelspec": {
   "display_name": "Scala",
   "language": "scala",
   "name": "scala"
  },
  "language_info": {
   "codemirror_mode": "text/x-scala",
   "file_extension": ".sc",
   "mimetype": "text/x-scala",
   "name": "scala",
   "nbconvert_exporter": "script",
   "version": "2.13.3"
  }
 },
 "nbformat": 4,
 "nbformat_minor": 4
}
