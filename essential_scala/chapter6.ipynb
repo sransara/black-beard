{
 "cells": [
  {
   "cell_type": "code",
   "execution_count": 1,
   "metadata": {},
   "outputs": [
    {
     "data": {
      "text/plain": [
       "\u001b[36mres0_0\u001b[39m: \u001b[32mList\u001b[39m[\u001b[32mInt\u001b[39m] = \u001b[33mList\u001b[39m(\u001b[32m1\u001b[39m, \u001b[32m2\u001b[39m, \u001b[32m3\u001b[39m)\n",
       "\u001b[36mres0_1\u001b[39m: \u001b[32mSeq\u001b[39m[\u001b[32mInt\u001b[39m] = \u001b[33mList\u001b[39m(\u001b[32m1\u001b[39m, \u001b[32m2\u001b[39m, \u001b[32m3\u001b[39m)"
      ]
     },
     "execution_count": 1,
     "metadata": {},
     "output_type": "execute_result"
    }
   ],
   "source": [
    "1 :: List(2, 3)\n",
    "1 +: Seq(2, 3)"
   ]
  },
  {
   "cell_type": "code",
   "execution_count": 2,
   "metadata": {},
   "outputs": [
    {
     "data": {
      "text/plain": [
       "defined \u001b[32mfunction\u001b[39m \u001b[36munique\u001b[39m\n",
       "\u001b[36mres1_1\u001b[39m: \u001b[32mSeq\u001b[39m[\u001b[32mInt\u001b[39m] = \u001b[33mList\u001b[39m(\u001b[32m3\u001b[39m, \u001b[32m5\u001b[39m, \u001b[32m1\u001b[39m, \u001b[32m4\u001b[39m, \u001b[32m2\u001b[39m)"
      ]
     },
     "execution_count": 2,
     "metadata": {},
     "output_type": "execute_result"
    }
   ],
   "source": [
    "def unique[A](seq: Seq[A]): Seq[A] =\n",
    "    seq.foldRight(Seq.empty[A]){ (v, s) => if (s.contains(v)) s else v +: s }\n",
    "\n",
    "unique(Seq(1,2,3,4,5,1,4,2))"
   ]
  },
  {
   "cell_type": "code",
   "execution_count": 3,
   "metadata": {},
   "outputs": [
    {
     "data": {
      "text/plain": [
       "\u001b[36mres2\u001b[39m: \u001b[32mSeq\u001b[39m[\u001b[32mInt\u001b[39m] = \u001b[33mList\u001b[39m(\u001b[32m1\u001b[39m, \u001b[32m2\u001b[39m)"
      ]
     },
     "execution_count": 3,
     "metadata": {},
     "output_type": "execute_result"
    }
   ],
   "source": [
    "Seq(Some(1), None, Some(2)).flatMap(x => x)"
   ]
  },
  {
   "cell_type": "code",
   "execution_count": 4,
   "metadata": {},
   "outputs": [
    {
     "data": {
      "text/plain": [
       "\u001b[32mimport \u001b[39m\u001b[36mscala.util.Try\n",
       "\n",
       "\u001b[39m\n",
       "defined \u001b[32mfunction\u001b[39m \u001b[36mcalculator\u001b[39m"
      ]
     },
     "execution_count": 4,
     "metadata": {},
     "output_type": "execute_result"
    }
   ],
   "source": [
    "import scala.util.Try\n",
    "\n",
    "def calculator(operand1: String, operator: String, operand2: String): Unit = {\n",
    "    val result = for {\n",
    "        operand1 <- Try(operand1.toInt).toOption\n",
    "        operand2 <- Try(operand2.toInt).toOption\n",
    "        result <- operator match {\n",
    "            case \"+\" => Some(operand1 + operand2)\n",
    "            case _ => None\n",
    "        }\n",
    "    } yield result\n",
    "\n",
    "    result match {\n",
    "        case Some(v) => println(s\"$operand1 $operator $operand2 = $v\")\n",
    "        case None => println(s\"Invalid inputs: $operand1 $operator $operand2\")\n",
    "    }\n",
    "}"
   ]
  },
  {
   "cell_type": "code",
   "execution_count": 5,
   "metadata": {},
   "outputs": [
    {
     "name": "stdout",
     "output_type": "stream",
     "text": [
      "10 + 2 = 12\n",
      "Invalid inputs: as + 2\n"
     ]
    }
   ],
   "source": [
    "calculator(\"10\", \"+\", \"2\")\n",
    "calculator(\"as\", \"+\", \"2\")"
   ]
  },
  {
   "cell_type": "code",
   "execution_count": 6,
   "metadata": {},
   "outputs": [
    {
     "data": {
      "text/plain": [
       "\u001b[36mres5\u001b[39m: \u001b[32mSeq\u001b[39m[\u001b[32mInt\u001b[39m] = \u001b[33mList\u001b[39m(\u001b[32m6\u001b[39m, \u001b[32m303\u001b[39m, \u001b[32m204\u001b[39m, \u001b[32m501\u001b[39m, \u001b[32m105\u001b[39m, \u001b[32m402\u001b[39m, \u001b[32m303\u001b[39m, \u001b[32m600\u001b[39m)"
      ]
     },
     "execution_count": 6,
     "metadata": {},
     "output_type": "execute_result"
    }
   ],
   "source": [
    "for {\n",
    "    a1 <- Seq(1, 100)\n",
    "    a2 <- Seq(2, 200)\n",
    "    a3 <- Seq(3, 300)\n",
    "} yield a1 + a2 + a3"
   ]
  }
 ],
 "metadata": {
  "kernelspec": {
   "display_name": "Scala",
   "language": "scala",
   "name": "scala"
  },
  "language_info": {
   "codemirror_mode": "text/x-scala",
   "file_extension": ".sc",
   "mimetype": "text/x-scala",
   "name": "scala",
   "nbconvert_exporter": "script",
   "version": "2.13.3"
  }
 },
 "nbformat": 4,
 "nbformat_minor": 4
}
